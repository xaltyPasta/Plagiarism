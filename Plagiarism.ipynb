{
  "nbformat": 4,
  "nbformat_minor": 0,
  "metadata": {
    "colab": {
      "provenance": [],
      "authorship_tag": "ABX9TyMTCR1QutnfssuYjdAA70sr",
      "include_colab_link": true
    },
    "kernelspec": {
      "name": "python3",
      "display_name": "Python 3"
    },
    "language_info": {
      "name": "python"
    }
  },
  "cells": [
    {
      "cell_type": "markdown",
      "metadata": {
        "id": "view-in-github",
        "colab_type": "text"
      },
      "source": [
        "<a href=\"https://colab.research.google.com/github/xaltyPasta/Plagiarism/blob/main/Plagiarism.ipynb\" target=\"_parent\"><img src=\"https://colab.research.google.com/assets/colab-badge.svg\" alt=\"Open In Colab\"/></a>"
      ]
    },
    {
      "cell_type": "code",
      "execution_count": null,
      "metadata": {
        "colab": {
          "base_uri": "https://localhost:8080/"
        },
        "id": "vlRqb_0_xEhy",
        "outputId": "987fa1b8-6424-4a43-ad49-53cac9d41890"
      },
      "outputs": [
        {
          "output_type": "stream",
          "name": "stdout",
          "text": [
            "Plagiarism detected between file2.txt and file1.txt with similarity 0.50\n",
            "Plagiarism detected between file3.txt and file4.txt with similarity 0.50\n",
            "Plagiarism detected between file4.txt and file1.txt with similarity 0.50\n",
            "Plagiarism detected between file1.txt and file3.txt with similarity 0.50\n",
            "Plagiarism detected between file4.txt and file3.txt with similarity 0.50\n",
            "Plagiarism detected between file5.txt and file4.txt with similarity 0.50\n",
            "Plagiarism detected between file2.txt and file3.txt with similarity 0.50\n",
            "Plagiarism detected between file5.txt and file1.txt with similarity 0.50\n",
            "Plagiarism detected between file3.txt and file1.txt with similarity 0.50\n",
            "Plagiarism detected between file5.txt and file3.txt with similarity 0.50\n",
            "Plagiarism detected between file4.txt and file5.txt with similarity 0.50\n",
            "Plagiarism detected between file1.txt and file5.txt with similarity 0.50\n",
            "Plagiarism detected between file2.txt and file5.txt with similarity 0.50\n",
            "Plagiarism detected between file3.txt and file5.txt with similarity 0.50\n",
            "Plagiarism detected between file1.txt and file2.txt with similarity 0.50\n",
            "Plagiarism detected between file4.txt and file2.txt with similarity 0.50\n",
            "Plagiarism detected between file1.txt and file4.txt with similarity 0.50\n",
            "Plagiarism detected between file2.txt and file4.txt with similarity 0.50\n",
            "Plagiarism detected between file5.txt and file2.txt with similarity 0.50\n",
            "Plagiarism detected between file3.txt and file2.txt with similarity 0.50\n"
          ]
        }
      ],
      "source": [
        "from sklearn.feature_extraction.text import CountVectorizer\n",
        "from sklearn.metrics.pairwise import cosine_similarity\n",
        "\n",
        "def calculate_similarity(text1, text2):\n",
        "    vectorizer = CountVectorizer().fit_transform([text1, text2])\n",
        "    vectors = vectorizer.toarray()\n",
        "    csim = cosine_similarity(vectors)\n",
        "    return csim[0][1]\n",
        "\n",
        "def check_plagiarism(files):\n",
        "    results = set()\n",
        "    for file1 in files:\n",
        "        for file2 in files:\n",
        "            if file1 != file2:\n",
        "                similarity = calculate_similarity(file1, file2)\n",
        "                if similarity > 0.3:  # The threshold is set to 0.3\n",
        "                    results.add((file1, file2, similarity))\n",
        "    return results\n",
        "\n",
        "# Assuming we have text data in these files\n",
        "files = ['file1.txt', 'file2.txt', 'file3.txt', 'file4.txt', 'file5.txt']\n",
        "plagiarism_results = check_plagiarism(files)\n",
        "\n",
        "for result in plagiarism_results:\n",
        "    print(f\"Plagiarism detected between {result[0]} and {result[1]} with similarity {result[2]:.2f}\")\n"
      ]
    }
  ]
}